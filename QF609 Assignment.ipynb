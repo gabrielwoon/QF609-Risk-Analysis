{
 "cells": [
  {
   "cell_type": "markdown",
   "id": "c56e2753",
   "metadata": {},
   "source": [
    "**Prepared By:**\n",
    "\n",
    "Gabriel Woon"
   ]
  },
  {
   "cell_type": "markdown",
   "id": "caf8b312",
   "metadata": {},
   "source": [
    "# VaR Analysis"
   ]
  },
  {
   "cell_type": "markdown",
   "id": "8a13ce8d",
   "metadata": {},
   "source": [
    "### Import Library & Data"
   ]
  },
  {
   "cell_type": "code",
   "execution_count": 1,
   "id": "f00414f7",
   "metadata": {},
   "outputs": [],
   "source": [
    "import numpy as np\n",
    "import pandas as pd\n",
    "import scipy\n",
    "from scipy import stats"
   ]
  },
  {
   "cell_type": "code",
   "execution_count": 2,
   "id": "0f086419",
   "metadata": {},
   "outputs": [],
   "source": [
    "shareprices = pd.read_excel(\"shareprices.xlsx\")"
   ]
  },
  {
   "attachments": {},
   "cell_type": "markdown",
   "id": "e6ac679d",
   "metadata": {},
   "source": [
    "### a) Calculate the log return and relevant statistics, such as variance, skewness, kurtosis"
   ]
  },
  {
   "cell_type": "code",
   "execution_count": 3,
   "id": "f85abeaf",
   "metadata": {},
   "outputs": [
    {
     "data": {
      "text/html": [
       "<div>\n",
       "<style scoped>\n",
       "    .dataframe tbody tr th:only-of-type {\n",
       "        vertical-align: middle;\n",
       "    }\n",
       "\n",
       "    .dataframe tbody tr th {\n",
       "        vertical-align: top;\n",
       "    }\n",
       "\n",
       "    .dataframe thead th {\n",
       "        text-align: right;\n",
       "    }\n",
       "</style>\n",
       "<table border=\"1\" class=\"dataframe\">\n",
       "  <thead>\n",
       "    <tr style=\"text-align: right;\">\n",
       "      <th></th>\n",
       "      <th>Date</th>\n",
       "      <th>DBS SP Equity</th>\n",
       "      <th>SIA SP Equity</th>\n",
       "      <th>DBS SP Equity Log</th>\n",
       "      <th>SIA SP Equity Log</th>\n",
       "    </tr>\n",
       "  </thead>\n",
       "  <tbody>\n",
       "    <tr>\n",
       "      <th>0</th>\n",
       "      <td>2001-11-06</td>\n",
       "      <td>10.1</td>\n",
       "      <td>8.1605</td>\n",
       "      <td>NaN</td>\n",
       "      <td>NaN</td>\n",
       "    </tr>\n",
       "    <tr>\n",
       "      <th>1</th>\n",
       "      <td>2001-11-07</td>\n",
       "      <td>10.2</td>\n",
       "      <td>8.1605</td>\n",
       "      <td>0.009852</td>\n",
       "      <td>0.000000</td>\n",
       "    </tr>\n",
       "    <tr>\n",
       "      <th>2</th>\n",
       "      <td>2001-11-08</td>\n",
       "      <td>10.1</td>\n",
       "      <td>8.2607</td>\n",
       "      <td>-0.009852</td>\n",
       "      <td>0.012204</td>\n",
       "    </tr>\n",
       "    <tr>\n",
       "      <th>3</th>\n",
       "      <td>2001-11-09</td>\n",
       "      <td>10.3</td>\n",
       "      <td>8.8114</td>\n",
       "      <td>0.019608</td>\n",
       "      <td>0.064537</td>\n",
       "    </tr>\n",
       "    <tr>\n",
       "      <th>4</th>\n",
       "      <td>2001-11-12</td>\n",
       "      <td>10.0</td>\n",
       "      <td>9.4121</td>\n",
       "      <td>-0.029559</td>\n",
       "      <td>0.065950</td>\n",
       "    </tr>\n",
       "    <tr>\n",
       "      <th>...</th>\n",
       "      <td>...</td>\n",
       "      <td>...</td>\n",
       "      <td>...</td>\n",
       "      <td>...</td>\n",
       "      <td>...</td>\n",
       "    </tr>\n",
       "    <tr>\n",
       "      <th>1470</th>\n",
       "      <td>2007-09-17</td>\n",
       "      <td>19.4</td>\n",
       "      <td>18.7000</td>\n",
       "      <td>-0.010257</td>\n",
       "      <td>-0.015915</td>\n",
       "    </tr>\n",
       "    <tr>\n",
       "      <th>1471</th>\n",
       "      <td>2007-09-18</td>\n",
       "      <td>19.3</td>\n",
       "      <td>18.7000</td>\n",
       "      <td>-0.005168</td>\n",
       "      <td>0.000000</td>\n",
       "    </tr>\n",
       "    <tr>\n",
       "      <th>1472</th>\n",
       "      <td>2007-09-19</td>\n",
       "      <td>20.1</td>\n",
       "      <td>18.8000</td>\n",
       "      <td>0.040615</td>\n",
       "      <td>0.005333</td>\n",
       "    </tr>\n",
       "    <tr>\n",
       "      <th>1473</th>\n",
       "      <td>2007-09-20</td>\n",
       "      <td>20.4</td>\n",
       "      <td>18.6000</td>\n",
       "      <td>0.014815</td>\n",
       "      <td>-0.010695</td>\n",
       "    </tr>\n",
       "    <tr>\n",
       "      <th>1474</th>\n",
       "      <td>2007-09-21</td>\n",
       "      <td>20.2</td>\n",
       "      <td>18.7000</td>\n",
       "      <td>-0.009852</td>\n",
       "      <td>0.005362</td>\n",
       "    </tr>\n",
       "  </tbody>\n",
       "</table>\n",
       "<p>1475 rows × 5 columns</p>\n",
       "</div>"
      ],
      "text/plain": [
       "           Date  DBS SP Equity  SIA SP Equity  DBS SP Equity Log  \\\n",
       "0    2001-11-06           10.1         8.1605                NaN   \n",
       "1    2001-11-07           10.2         8.1605           0.009852   \n",
       "2    2001-11-08           10.1         8.2607          -0.009852   \n",
       "3    2001-11-09           10.3         8.8114           0.019608   \n",
       "4    2001-11-12           10.0         9.4121          -0.029559   \n",
       "...         ...            ...            ...                ...   \n",
       "1470 2007-09-17           19.4        18.7000          -0.010257   \n",
       "1471 2007-09-18           19.3        18.7000          -0.005168   \n",
       "1472 2007-09-19           20.1        18.8000           0.040615   \n",
       "1473 2007-09-20           20.4        18.6000           0.014815   \n",
       "1474 2007-09-21           20.2        18.7000          -0.009852   \n",
       "\n",
       "      SIA SP Equity Log  \n",
       "0                   NaN  \n",
       "1              0.000000  \n",
       "2              0.012204  \n",
       "3              0.064537  \n",
       "4              0.065950  \n",
       "...                 ...  \n",
       "1470          -0.015915  \n",
       "1471           0.000000  \n",
       "1472           0.005333  \n",
       "1473          -0.010695  \n",
       "1474           0.005362  \n",
       "\n",
       "[1475 rows x 5 columns]"
      ]
     },
     "execution_count": 3,
     "metadata": {},
     "output_type": "execute_result"
    }
   ],
   "source": [
    "shareprices[\"DBS SP Equity Log\"] = np.log(shareprices['DBS SP Equity']/shareprices['DBS SP Equity'].shift(1)).dropna()\n",
    "shareprices[\"SIA SP Equity Log\"] = np.log(shareprices['SIA SP Equity']/shareprices['SIA SP Equity'].shift(1)).dropna()\n",
    "shareprices"
   ]
  },
  {
   "cell_type": "markdown",
   "id": "0accf0a8",
   "metadata": {},
   "source": [
    "**DBS**"
   ]
  },
  {
   "cell_type": "code",
   "execution_count": 4,
   "id": "9ccc5377",
   "metadata": {},
   "outputs": [
    {
     "data": {
      "text/plain": [
       "0.0004702491048574926"
      ]
     },
     "execution_count": 4,
     "metadata": {},
     "output_type": "execute_result"
    }
   ],
   "source": [
    "DBS_Mean = shareprices[\"DBS SP Equity Log\"].mean()\n",
    "DBS_Mean"
   ]
  },
  {
   "cell_type": "code",
   "execution_count": 5,
   "id": "8d1d13c7",
   "metadata": {},
   "outputs": [
    {
     "data": {
      "text/plain": [
       "0.016493004149468315"
      ]
     },
     "execution_count": 5,
     "metadata": {},
     "output_type": "execute_result"
    }
   ],
   "source": [
    "DBS_Std = shareprices[\"DBS SP Equity Log\"].std()\n",
    "DBS_Std"
   ]
  },
  {
   "cell_type": "code",
   "execution_count": 6,
   "id": "f8c05e96",
   "metadata": {},
   "outputs": [
    {
     "data": {
      "text/plain": [
       "0.000272019185874379"
      ]
     },
     "execution_count": 6,
     "metadata": {},
     "output_type": "execute_result"
    }
   ],
   "source": [
    "DBS_Var = shareprices[\"DBS SP Equity Log\"].var()\n",
    "DBS_Var"
   ]
  },
  {
   "cell_type": "code",
   "execution_count": 7,
   "id": "5ce540bc",
   "metadata": {},
   "outputs": [
    {
     "data": {
      "text/plain": [
       "0.09977372575778977"
      ]
     },
     "execution_count": 7,
     "metadata": {},
     "output_type": "execute_result"
    }
   ],
   "source": [
    "DBS_Skew = scipy.stats.skew(shareprices[\"DBS SP Equity Log\"][1:], bias=False)\n",
    "DBS_Skew"
   ]
  },
  {
   "cell_type": "code",
   "execution_count": 8,
   "id": "90d872c8",
   "metadata": {},
   "outputs": [
    {
     "data": {
      "text/plain": [
       "1.275684714671094"
      ]
     },
     "execution_count": 8,
     "metadata": {},
     "output_type": "execute_result"
    }
   ],
   "source": [
    "DBS_Kurt = scipy.stats.kurtosis(shareprices[\"DBS SP Equity Log\"][1:], bias=False)\n",
    "DBS_Kurt"
   ]
  },
  {
   "cell_type": "code",
   "execution_count": 9,
   "id": "b1a052e9",
   "metadata": {},
   "outputs": [
    {
     "data": {
      "text/html": [
       "<div>\n",
       "<style scoped>\n",
       "    .dataframe tbody tr th:only-of-type {\n",
       "        vertical-align: middle;\n",
       "    }\n",
       "\n",
       "    .dataframe tbody tr th {\n",
       "        vertical-align: top;\n",
       "    }\n",
       "\n",
       "    .dataframe thead th {\n",
       "        text-align: right;\n",
       "    }\n",
       "</style>\n",
       "<table border=\"1\" class=\"dataframe\">\n",
       "  <thead>\n",
       "    <tr style=\"text-align: right;\">\n",
       "      <th></th>\n",
       "      <th>DBS</th>\n",
       "      <th>Statistics</th>\n",
       "    </tr>\n",
       "  </thead>\n",
       "  <tbody>\n",
       "    <tr>\n",
       "      <th>0</th>\n",
       "      <td>Mean</td>\n",
       "      <td>0.000470</td>\n",
       "    </tr>\n",
       "    <tr>\n",
       "      <th>1</th>\n",
       "      <td>Var</td>\n",
       "      <td>0.000272</td>\n",
       "    </tr>\n",
       "    <tr>\n",
       "      <th>2</th>\n",
       "      <td>Skew</td>\n",
       "      <td>0.099774</td>\n",
       "    </tr>\n",
       "    <tr>\n",
       "      <th>3</th>\n",
       "      <td>Kurt</td>\n",
       "      <td>1.275685</td>\n",
       "    </tr>\n",
       "  </tbody>\n",
       "</table>\n",
       "</div>"
      ],
      "text/plain": [
       "    DBS  Statistics\n",
       "0  Mean    0.000470\n",
       "1   Var    0.000272\n",
       "2  Skew    0.099774\n",
       "3  Kurt    1.275685"
      ]
     },
     "execution_count": 9,
     "metadata": {},
     "output_type": "execute_result"
    }
   ],
   "source": [
    "DBS_Statistics = pd.DataFrame({\n",
    "    'DBS':[\"Mean\", \n",
    "           \"Var\", \n",
    "           \"Skew\", \n",
    "           \"Kurt\"], \n",
    "    'Statistics': [DBS_Mean, \n",
    "                   DBS_Var, \n",
    "                   DBS_Skew, \n",
    "                   DBS_Kurt]})\n",
    "DBS_Statistics"
   ]
  },
  {
   "cell_type": "markdown",
   "id": "73f6e196",
   "metadata": {},
   "source": [
    "**SIA**"
   ]
  },
  {
   "cell_type": "code",
   "execution_count": 10,
   "id": "579b04ae",
   "metadata": {},
   "outputs": [
    {
     "data": {
      "text/plain": [
       "0.0005625631494246457"
      ]
     },
     "execution_count": 10,
     "metadata": {},
     "output_type": "execute_result"
    }
   ],
   "source": [
    "SIA_Mean = shareprices[\"SIA SP Equity Log\"].mean()\n",
    "SIA_Mean"
   ]
  },
  {
   "cell_type": "code",
   "execution_count": 11,
   "id": "e9b1d1a4",
   "metadata": {},
   "outputs": [
    {
     "data": {
      "text/plain": [
       "0.01731434411741326"
      ]
     },
     "execution_count": 11,
     "metadata": {},
     "output_type": "execute_result"
    }
   ],
   "source": [
    "SIA_Std = shareprices[\"SIA SP Equity Log\"].std()\n",
    "SIA_Std"
   ]
  },
  {
   "cell_type": "code",
   "execution_count": 12,
   "id": "a0c8838d",
   "metadata": {},
   "outputs": [
    {
     "data": {
      "text/plain": [
       "0.00029978651221620307"
      ]
     },
     "execution_count": 12,
     "metadata": {},
     "output_type": "execute_result"
    }
   ],
   "source": [
    "SIA_Var = shareprices[\"SIA SP Equity Log\"].var()\n",
    "SIA_Var"
   ]
  },
  {
   "cell_type": "code",
   "execution_count": 13,
   "id": "c7833f85",
   "metadata": {},
   "outputs": [
    {
     "data": {
      "text/plain": [
       "0.24671781769540677"
      ]
     },
     "execution_count": 13,
     "metadata": {},
     "output_type": "execute_result"
    }
   ],
   "source": [
    "SIA_Skew = scipy.stats.skew(shareprices[\"SIA SP Equity Log\"][1:], bias=False)\n",
    "SIA_Skew"
   ]
  },
  {
   "cell_type": "code",
   "execution_count": 14,
   "id": "0157d243",
   "metadata": {},
   "outputs": [
    {
     "data": {
      "text/plain": [
       "1.3746524921695107"
      ]
     },
     "execution_count": 14,
     "metadata": {},
     "output_type": "execute_result"
    }
   ],
   "source": [
    "SIA_Kurt = scipy.stats.kurtosis(shareprices[\"SIA SP Equity Log\"][1:], bias=False)\n",
    "SIA_Kurt"
   ]
  },
  {
   "cell_type": "code",
   "execution_count": 15,
   "id": "cb1d7654",
   "metadata": {},
   "outputs": [
    {
     "data": {
      "text/html": [
       "<div>\n",
       "<style scoped>\n",
       "    .dataframe tbody tr th:only-of-type {\n",
       "        vertical-align: middle;\n",
       "    }\n",
       "\n",
       "    .dataframe tbody tr th {\n",
       "        vertical-align: top;\n",
       "    }\n",
       "\n",
       "    .dataframe thead th {\n",
       "        text-align: right;\n",
       "    }\n",
       "</style>\n",
       "<table border=\"1\" class=\"dataframe\">\n",
       "  <thead>\n",
       "    <tr style=\"text-align: right;\">\n",
       "      <th></th>\n",
       "      <th>SIA</th>\n",
       "      <th>Statistics</th>\n",
       "    </tr>\n",
       "  </thead>\n",
       "  <tbody>\n",
       "    <tr>\n",
       "      <th>0</th>\n",
       "      <td>Mean</td>\n",
       "      <td>0.000563</td>\n",
       "    </tr>\n",
       "    <tr>\n",
       "      <th>1</th>\n",
       "      <td>Var</td>\n",
       "      <td>0.000300</td>\n",
       "    </tr>\n",
       "    <tr>\n",
       "      <th>2</th>\n",
       "      <td>Skew</td>\n",
       "      <td>0.246718</td>\n",
       "    </tr>\n",
       "    <tr>\n",
       "      <th>3</th>\n",
       "      <td>Kurt</td>\n",
       "      <td>1.374652</td>\n",
       "    </tr>\n",
       "  </tbody>\n",
       "</table>\n",
       "</div>"
      ],
      "text/plain": [
       "    SIA  Statistics\n",
       "0  Mean    0.000563\n",
       "1   Var    0.000300\n",
       "2  Skew    0.246718\n",
       "3  Kurt    1.374652"
      ]
     },
     "execution_count": 15,
     "metadata": {},
     "output_type": "execute_result"
    }
   ],
   "source": [
    "SIA_Statistics = pd.DataFrame({\n",
    "    'SIA':[\"Mean\", \n",
    "           \"Var\", \n",
    "           \"Skew\", \n",
    "           \"Kurt\"], \n",
    "    'Statistics': [SIA_Mean,\n",
    "                   SIA_Var,\n",
    "                   SIA_Skew,\n",
    "                   SIA_Kurt]})\n",
    "SIA_Statistics"
   ]
  },
  {
   "attachments": {},
   "cell_type": "markdown",
   "id": "d03c7d1c",
   "metadata": {},
   "source": [
    "### b) Perform normality tests"
   ]
  },
  {
   "cell_type": "markdown",
   "id": "c2861a45",
   "metadata": {},
   "source": [
    "**DBS**"
   ]
  },
  {
   "cell_type": "code",
   "execution_count": 16,
   "id": "17d30add",
   "metadata": {},
   "outputs": [
    {
     "data": {
      "text/plain": [
       "NormaltestResult(statistic=43.830564776181134, pvalue=3.036084044676182e-10)"
      ]
     },
     "execution_count": 16,
     "metadata": {},
     "output_type": "execute_result"
    }
   ],
   "source": [
    "DBS_NormalTest = scipy.stats.normaltest(shareprices[\"DBS SP Equity Log\"][1:])\n",
    "DBS_NormalTest"
   ]
  },
  {
   "cell_type": "code",
   "execution_count": 17,
   "id": "89130398",
   "metadata": {},
   "outputs": [
    {
     "data": {
      "text/plain": [
       "Jarque_beraResult(statistic=101.07780438279802, pvalue=0.0)"
      ]
     },
     "execution_count": 17,
     "metadata": {},
     "output_type": "execute_result"
    }
   ],
   "source": [
    "DBS_JarqueBera= scipy.stats.jarque_bera(shareprices[\"DBS SP Equity Log\"][1:])\n",
    "DBS_JarqueBera"
   ]
  },
  {
   "cell_type": "code",
   "execution_count": 18,
   "id": "bc61a50f",
   "metadata": {},
   "outputs": [
    {
     "data": {
      "text/html": [
       "<div>\n",
       "<style scoped>\n",
       "    .dataframe tbody tr th:only-of-type {\n",
       "        vertical-align: middle;\n",
       "    }\n",
       "\n",
       "    .dataframe tbody tr th {\n",
       "        vertical-align: top;\n",
       "    }\n",
       "\n",
       "    .dataframe thead th {\n",
       "        text-align: right;\n",
       "    }\n",
       "</style>\n",
       "<table border=\"1\" class=\"dataframe\">\n",
       "  <thead>\n",
       "    <tr style=\"text-align: right;\">\n",
       "      <th></th>\n",
       "      <th>Hypothesis Test</th>\n",
       "      <th>DBS_NormalTest</th>\n",
       "      <th>DBS_JarqueBera</th>\n",
       "    </tr>\n",
       "  </thead>\n",
       "  <tbody>\n",
       "    <tr>\n",
       "      <th>0</th>\n",
       "      <td>Test Statistic</td>\n",
       "      <td>4.383056e+01</td>\n",
       "      <td>101.077804</td>\n",
       "    </tr>\n",
       "    <tr>\n",
       "      <th>1</th>\n",
       "      <td>P-Value</td>\n",
       "      <td>3.036084e-10</td>\n",
       "      <td>0.000000</td>\n",
       "    </tr>\n",
       "  </tbody>\n",
       "</table>\n",
       "</div>"
      ],
      "text/plain": [
       "  Hypothesis Test  DBS_NormalTest  DBS_JarqueBera\n",
       "0  Test Statistic    4.383056e+01      101.077804\n",
       "1         P-Value    3.036084e-10        0.000000"
      ]
     },
     "execution_count": 18,
     "metadata": {},
     "output_type": "execute_result"
    }
   ],
   "source": [
    "DBS_Test = pd.DataFrame({\n",
    "    'Hypothesis Test':[\"Test Statistic\", \n",
    "                       \"P-Value\"]})\n",
    "\n",
    "DBS_Test.assign(DBS_NormalTest=DBS_NormalTest, DBS_JarqueBera=DBS_JarqueBera)"
   ]
  },
  {
   "cell_type": "markdown",
   "id": "39223d81",
   "metadata": {},
   "source": [
    "**SIA**"
   ]
  },
  {
   "cell_type": "code",
   "execution_count": 19,
   "id": "63802c0b",
   "metadata": {},
   "outputs": [
    {
     "data": {
      "text/plain": [
       "NormaltestResult(statistic=60.171785540171655, pvalue=8.587421633257203e-14)"
      ]
     },
     "execution_count": 19,
     "metadata": {},
     "output_type": "execute_result"
    }
   ],
   "source": [
    "SIA_NormalTest = scipy.stats.normaltest(shareprices[\"SIA SP Equity Log\"][1:])\n",
    "SIA_NormalTest"
   ]
  },
  {
   "cell_type": "code",
   "execution_count": 20,
   "id": "17f64d7c",
   "metadata": {},
   "outputs": [
    {
     "data": {
      "text/plain": [
       "Jarque_beraResult(statistic=129.51162580671462, pvalue=0.0)"
      ]
     },
     "execution_count": 20,
     "metadata": {},
     "output_type": "execute_result"
    }
   ],
   "source": [
    "SIA_JarqueBera = scipy.stats.jarque_bera(shareprices[\"SIA SP Equity Log\"][1:])\n",
    "SIA_JarqueBera"
   ]
  },
  {
   "cell_type": "code",
   "execution_count": 21,
   "id": "5bfff8f0",
   "metadata": {},
   "outputs": [
    {
     "data": {
      "text/html": [
       "<div>\n",
       "<style scoped>\n",
       "    .dataframe tbody tr th:only-of-type {\n",
       "        vertical-align: middle;\n",
       "    }\n",
       "\n",
       "    .dataframe tbody tr th {\n",
       "        vertical-align: top;\n",
       "    }\n",
       "\n",
       "    .dataframe thead th {\n",
       "        text-align: right;\n",
       "    }\n",
       "</style>\n",
       "<table border=\"1\" class=\"dataframe\">\n",
       "  <thead>\n",
       "    <tr style=\"text-align: right;\">\n",
       "      <th></th>\n",
       "      <th>Hypothesis Test</th>\n",
       "      <th>SIA_NormalTest</th>\n",
       "      <th>SIA_JarqueBera</th>\n",
       "    </tr>\n",
       "  </thead>\n",
       "  <tbody>\n",
       "    <tr>\n",
       "      <th>0</th>\n",
       "      <td>Test Statistic</td>\n",
       "      <td>6.017179e+01</td>\n",
       "      <td>129.511626</td>\n",
       "    </tr>\n",
       "    <tr>\n",
       "      <th>1</th>\n",
       "      <td>P-Value</td>\n",
       "      <td>8.587422e-14</td>\n",
       "      <td>0.000000</td>\n",
       "    </tr>\n",
       "  </tbody>\n",
       "</table>\n",
       "</div>"
      ],
      "text/plain": [
       "  Hypothesis Test  SIA_NormalTest  SIA_JarqueBera\n",
       "0  Test Statistic    6.017179e+01      129.511626\n",
       "1         P-Value    8.587422e-14        0.000000"
      ]
     },
     "execution_count": 21,
     "metadata": {},
     "output_type": "execute_result"
    }
   ],
   "source": [
    "SIA_Test = pd.DataFrame({\n",
    "    'Hypothesis Test':[\"Test Statistic\", \n",
    "                       \"P-Value\"]})\n",
    "\n",
    "SIA_Test.assign(SIA_NormalTest=SIA_NormalTest, SIA_JarqueBera=SIA_JarqueBera)"
   ]
  },
  {
   "attachments": {},
   "cell_type": "markdown",
   "id": "57a5ca4e",
   "metadata": {},
   "source": [
    "### c) Calculate VaR for each stock using delta normal approach"
   ]
  },
  {
   "cell_type": "markdown",
   "id": "0a61d6bd",
   "metadata": {},
   "source": [
    "**DBS**"
   ]
  },
  {
   "cell_type": "code",
   "execution_count": 22,
   "id": "a33946c1",
   "metadata": {},
   "outputs": [
    {
     "data": {
      "text/plain": [
       "-0.03789821603480489"
      ]
     },
     "execution_count": 22,
     "metadata": {},
     "output_type": "execute_result"
    }
   ],
   "source": [
    "# 99% Confidence Level\n",
    "DBS_DeltaNormal_99 = scipy.stats.norm.ppf(0.01, DBS_Mean, DBS_Std)\n",
    "DBS_DeltaNormal_99"
   ]
  },
  {
   "cell_type": "code",
   "execution_count": 23,
   "id": "9cbcca94",
   "metadata": {},
   "outputs": [
    {
     "data": {
      "text/plain": [
       "-0.026658328589721156"
      ]
     },
     "execution_count": 23,
     "metadata": {},
     "output_type": "execute_result"
    }
   ],
   "source": [
    "# 95% Confidence Level\n",
    "DBS_DeltaNormal_95 = scipy.stats.norm.ppf(0.05, DBS_Mean, DBS_Std)\n",
    "DBS_DeltaNormal_95"
   ]
  },
  {
   "cell_type": "markdown",
   "id": "dac977f8",
   "metadata": {},
   "source": [
    "**SIA**"
   ]
  },
  {
   "cell_type": "code",
   "execution_count": 24,
   "id": "412a2b09",
   "metadata": {},
   "outputs": [
    {
     "data": {
      "text/plain": [
       "-0.03971662447853122"
      ]
     },
     "execution_count": 24,
     "metadata": {},
     "output_type": "execute_result"
    }
   ],
   "source": [
    "# 99% Confidence Level\n",
    "SIA_DeltaNormal_99 = scipy.stats.norm.ppf(0.01, SIA_Mean, SIA_Std)\n",
    "SIA_DeltaNormal_99"
   ]
  },
  {
   "cell_type": "code",
   "execution_count": 25,
   "id": "9ba22fe0",
   "metadata": {},
   "outputs": [
    {
     "data": {
      "text/plain": [
       "-0.02791699857038845"
      ]
     },
     "execution_count": 25,
     "metadata": {},
     "output_type": "execute_result"
    }
   ],
   "source": [
    "# 95% Confidence Level\n",
    "SIA_DeltaNormal_95 = scipy.stats.norm.ppf(0.05, SIA_Mean, SIA_Std)\n",
    "SIA_DeltaNormal_95"
   ]
  },
  {
   "cell_type": "markdown",
   "id": "0f601dd5",
   "metadata": {},
   "source": [
    "### d) Calculate VaR for each stock using historical simulation approach (bootstrap)"
   ]
  },
  {
   "cell_type": "code",
   "execution_count": 26,
   "id": "631640dc",
   "metadata": {},
   "outputs": [],
   "source": [
    "def VaR_95(data):\n",
    "     return np.percentile(data, 5)\n",
    "    \n",
    "def VaR_99(data):\n",
    "     return np.percentile(data, 1)\n",
    "\n",
    "def bootstrap(data, func):\n",
    "    sample = np.random.choice(data, len(data))\n",
    "    return func(sample)\n",
    "\n",
    "def draw_bs_reps(data, func, size):\n",
    "    \"\"\"Draw bootstrap replicates\"\"\"\n",
    "    # Initialize array of replicates\n",
    "    bs_replicates = np.empty(size)\n",
    "    # Generate replicates\n",
    "    for i in range(size):\n",
    "        bs_replicates[i] = bootstrap(data, func)\n",
    "    return bs_replicates"
   ]
  },
  {
   "cell_type": "markdown",
   "id": "9502626d",
   "metadata": {},
   "source": [
    "**DBS**"
   ]
  },
  {
   "cell_type": "code",
   "execution_count": 27,
   "id": "a93d0ac4",
   "metadata": {},
   "outputs": [
    {
     "data": {
      "text/plain": [
       "-0.04252471267261163"
      ]
     },
     "execution_count": 27,
     "metadata": {},
     "output_type": "execute_result"
    }
   ],
   "source": [
    "# 99% Confidence Level (100,000x)\n",
    "DBS_Historical_99 = draw_bs_reps(shareprices[\"DBS SP Equity Log\"][1:], VaR_99, 100000).mean()\n",
    "DBS_Historical_99"
   ]
  },
  {
   "cell_type": "code",
   "execution_count": 28,
   "id": "8daa2656",
   "metadata": {},
   "outputs": [
    {
     "data": {
      "text/plain": [
       "-0.027278527451114424"
      ]
     },
     "execution_count": 28,
     "metadata": {},
     "output_type": "execute_result"
    }
   ],
   "source": [
    "# 95% Confidence Level (100,000x)\n",
    "DBS_Historical_95 = draw_bs_reps(shareprices[\"DBS SP Equity Log\"][1:], VaR_95, 100000).mean()\n",
    "DBS_Historical_95"
   ]
  },
  {
   "cell_type": "markdown",
   "id": "c6119eb6",
   "metadata": {},
   "source": [
    "**SIA**"
   ]
  },
  {
   "cell_type": "code",
   "execution_count": 29,
   "id": "e03d6009",
   "metadata": {},
   "outputs": [
    {
     "data": {
      "text/plain": [
       "-0.04275930703173802"
      ]
     },
     "execution_count": 29,
     "metadata": {},
     "output_type": "execute_result"
    }
   ],
   "source": [
    "# 99% Confidence Level (100,000x)\n",
    "SIA_Historical_99 = draw_bs_reps(shareprices[\"SIA SP Equity Log\"][1:], VaR_99, 100000).mean()\n",
    "SIA_Historical_99"
   ]
  },
  {
   "cell_type": "code",
   "execution_count": 30,
   "id": "b23183fb",
   "metadata": {
    "scrolled": true
   },
   "outputs": [
    {
     "data": {
      "text/plain": [
       "-0.026195409842209263"
      ]
     },
     "execution_count": 30,
     "metadata": {},
     "output_type": "execute_result"
    }
   ],
   "source": [
    "# 95% Confidence Level (100,000x)\n",
    "SIA_Historical_95 = draw_bs_reps(shareprices[\"SIA SP Equity Log\"][1:], VaR_95, 100000).mean()\n",
    "SIA_Historical_95"
   ]
  },
  {
   "attachments": {},
   "cell_type": "markdown",
   "id": "842e7d0d",
   "metadata": {},
   "source": [
    "### e) Calculate VaR for each stock using Monte Carlo approach"
   ]
  },
  {
   "cell_type": "markdown",
   "id": "8bb62dec",
   "metadata": {},
   "source": [
    "**DBS**"
   ]
  },
  {
   "cell_type": "code",
   "execution_count": 31,
   "id": "564494ac",
   "metadata": {},
   "outputs": [],
   "source": [
    "# assume normal distribution\n",
    "DBS_MonteCarlo = np.random.normal(DBS_Mean, DBS_Std, 1000000)"
   ]
  },
  {
   "cell_type": "code",
   "execution_count": 32,
   "id": "7d74529a",
   "metadata": {},
   "outputs": [
    {
     "data": {
      "text/plain": [
       "-0.03782425562897778"
      ]
     },
     "execution_count": 32,
     "metadata": {},
     "output_type": "execute_result"
    }
   ],
   "source": [
    "# 99% Confidence Level (1,000,000x)\n",
    "DBS_MonteCarlo_99 = np.percentile(DBS_MonteCarlo, 1)\n",
    "DBS_MonteCarlo_99"
   ]
  },
  {
   "cell_type": "code",
   "execution_count": 33,
   "id": "6c4e91a4",
   "metadata": {},
   "outputs": [
    {
     "data": {
      "text/plain": [
       "-0.02666461450441959"
      ]
     },
     "execution_count": 33,
     "metadata": {},
     "output_type": "execute_result"
    }
   ],
   "source": [
    "# 95% Confidence Level (1,000,000x)\n",
    "DBS_MonteCarlo_95 = np.percentile(DBS_MonteCarlo, 5)\n",
    "DBS_MonteCarlo_95"
   ]
  },
  {
   "cell_type": "markdown",
   "id": "db903433",
   "metadata": {},
   "source": [
    "**SIA**"
   ]
  },
  {
   "cell_type": "code",
   "execution_count": 34,
   "id": "4fd66ba7",
   "metadata": {},
   "outputs": [],
   "source": [
    "# assume normal distribution\n",
    "SIA_MonteCarlo = np.random.normal(SIA_Mean, SIA_Std, 1000000)"
   ]
  },
  {
   "cell_type": "code",
   "execution_count": 35,
   "id": "2a520af7",
   "metadata": {},
   "outputs": [
    {
     "data": {
      "text/plain": [
       "-0.039759951576634076"
      ]
     },
     "execution_count": 35,
     "metadata": {},
     "output_type": "execute_result"
    }
   ],
   "source": [
    "# 99% Confidence Level (1,000,000x)\n",
    "SIA_MonteCarlo_99 = np.percentile(SIA_MonteCarlo, 1)\n",
    "SIA_MonteCarlo_99"
   ]
  },
  {
   "cell_type": "code",
   "execution_count": 36,
   "id": "a256a6f8",
   "metadata": {},
   "outputs": [
    {
     "data": {
      "text/plain": [
       "-0.02795722907525184"
      ]
     },
     "execution_count": 36,
     "metadata": {},
     "output_type": "execute_result"
    }
   ],
   "source": [
    "# 95% Confidence Level (1,000,000x)\n",
    "SIA_MonteCarlo_95 = np.percentile(SIA_MonteCarlo, 5)\n",
    "SIA_MonteCarlo_95"
   ]
  },
  {
   "cell_type": "markdown",
   "id": "e265bdbc",
   "metadata": {},
   "source": [
    "### f) Compare the different approaches"
   ]
  },
  {
   "cell_type": "markdown",
   "id": "b6e12e80",
   "metadata": {},
   "source": [
    "**DBS**"
   ]
  },
  {
   "cell_type": "code",
   "execution_count": 37,
   "id": "0eb08cb2",
   "metadata": {},
   "outputs": [
    {
     "data": {
      "text/html": [
       "<div>\n",
       "<style scoped>\n",
       "    .dataframe tbody tr th:only-of-type {\n",
       "        vertical-align: middle;\n",
       "    }\n",
       "\n",
       "    .dataframe tbody tr th {\n",
       "        vertical-align: top;\n",
       "    }\n",
       "\n",
       "    .dataframe thead th {\n",
       "        text-align: right;\n",
       "    }\n",
       "</style>\n",
       "<table border=\"1\" class=\"dataframe\">\n",
       "  <thead>\n",
       "    <tr style=\"text-align: right;\">\n",
       "      <th></th>\n",
       "      <th>Confidence Level</th>\n",
       "      <th>DBS_99</th>\n",
       "      <th>DBS_95</th>\n",
       "    </tr>\n",
       "  </thead>\n",
       "  <tbody>\n",
       "    <tr>\n",
       "      <th>0</th>\n",
       "      <td>DeltaNormal</td>\n",
       "      <td>-0.037898</td>\n",
       "      <td>-0.026658</td>\n",
       "    </tr>\n",
       "    <tr>\n",
       "      <th>1</th>\n",
       "      <td>Historical</td>\n",
       "      <td>-0.037824</td>\n",
       "      <td>-0.026665</td>\n",
       "    </tr>\n",
       "    <tr>\n",
       "      <th>2</th>\n",
       "      <td>MonteCarlo</td>\n",
       "      <td>-0.042525</td>\n",
       "      <td>-0.027279</td>\n",
       "    </tr>\n",
       "  </tbody>\n",
       "</table>\n",
       "</div>"
      ],
      "text/plain": [
       "  Confidence Level    DBS_99    DBS_95\n",
       "0      DeltaNormal -0.037898 -0.026658\n",
       "1       Historical -0.037824 -0.026665\n",
       "2       MonteCarlo -0.042525 -0.027279"
      ]
     },
     "execution_count": 37,
     "metadata": {},
     "output_type": "execute_result"
    }
   ],
   "source": [
    "DBS_99 = pd.Series([DBS_DeltaNormal_99, DBS_Historical_99, DBS_MonteCarlo_99], index=[0, 2, 1])\n",
    "DBS_95 = pd.Series([DBS_DeltaNormal_95, DBS_Historical_95, DBS_MonteCarlo_95], index=[0, 2, 1])\n",
    "\n",
    "DBS_Summary = pd.DataFrame({\n",
    "    'Confidence Level':[\"DeltaNormal\", \n",
    "                        \"Historical\", \n",
    "                        \"MonteCarlo\"]})\n",
    "\n",
    "DBS_Summary.assign(DBS_99=DBS_99, DBS_95=DBS_95)"
   ]
  },
  {
   "cell_type": "markdown",
   "id": "c54efb8a",
   "metadata": {},
   "source": [
    "**SIA**"
   ]
  },
  {
   "cell_type": "code",
   "execution_count": 38,
   "id": "f40ec176",
   "metadata": {},
   "outputs": [
    {
     "data": {
      "text/html": [
       "<div>\n",
       "<style scoped>\n",
       "    .dataframe tbody tr th:only-of-type {\n",
       "        vertical-align: middle;\n",
       "    }\n",
       "\n",
       "    .dataframe tbody tr th {\n",
       "        vertical-align: top;\n",
       "    }\n",
       "\n",
       "    .dataframe thead th {\n",
       "        text-align: right;\n",
       "    }\n",
       "</style>\n",
       "<table border=\"1\" class=\"dataframe\">\n",
       "  <thead>\n",
       "    <tr style=\"text-align: right;\">\n",
       "      <th></th>\n",
       "      <th>Confidence Level</th>\n",
       "      <th>SIA_99</th>\n",
       "      <th>SIA_95</th>\n",
       "    </tr>\n",
       "  </thead>\n",
       "  <tbody>\n",
       "    <tr>\n",
       "      <th>0</th>\n",
       "      <td>DeltaNormal</td>\n",
       "      <td>-0.039717</td>\n",
       "      <td>-0.027917</td>\n",
       "    </tr>\n",
       "    <tr>\n",
       "      <th>1</th>\n",
       "      <td>Historical</td>\n",
       "      <td>-0.039760</td>\n",
       "      <td>-0.027957</td>\n",
       "    </tr>\n",
       "    <tr>\n",
       "      <th>2</th>\n",
       "      <td>MonteCarlo</td>\n",
       "      <td>-0.042759</td>\n",
       "      <td>-0.026195</td>\n",
       "    </tr>\n",
       "  </tbody>\n",
       "</table>\n",
       "</div>"
      ],
      "text/plain": [
       "  Confidence Level    SIA_99    SIA_95\n",
       "0      DeltaNormal -0.039717 -0.027917\n",
       "1       Historical -0.039760 -0.027957\n",
       "2       MonteCarlo -0.042759 -0.026195"
      ]
     },
     "execution_count": 38,
     "metadata": {},
     "output_type": "execute_result"
    }
   ],
   "source": [
    "SIA_99 = pd.Series([SIA_DeltaNormal_99, SIA_Historical_99, SIA_MonteCarlo_99], index=[0, 2, 1])\n",
    "SIA_95 = pd.Series([SIA_DeltaNormal_95, SIA_Historical_95, SIA_MonteCarlo_95], index=[0, 2, 1])\n",
    "\n",
    "SIA_Summary = pd.DataFrame({\n",
    "    'Confidence Level':[\"DeltaNormal\", \n",
    "                        \"Historical\", \n",
    "                        \"MonteCarlo\"]})\n",
    "\n",
    "SIA_Summary.assign(SIA_99=SIA_99, SIA_95=SIA_95)"
   ]
  },
  {
   "cell_type": "markdown",
   "id": "f94b6b36",
   "metadata": {},
   "source": [
    "### g) Create a hypothetical portfolio of these two stocks, calculate the covariance matrix, then use Monte Carlo simulation to calculate VaR for your portfolio"
   ]
  },
  {
   "cell_type": "code",
   "execution_count": 39,
   "id": "53303c15",
   "metadata": {},
   "outputs": [
    {
     "name": "stdout",
     "output_type": "stream",
     "text": [
      "[[0.00027202 0.00010684]\n",
      " [0.00010684 0.00029979]]\n"
     ]
    }
   ],
   "source": [
    "DBS_SIA_Cov = np.cov(shareprices[\"DBS SP Equity Log\"][1:], shareprices[\"SIA SP Equity Log\"][1:])\n",
    "print(DBS_SIA_Cov)"
   ]
  },
  {
   "cell_type": "code",
   "execution_count": 40,
   "id": "06ddd0e3",
   "metadata": {},
   "outputs": [
    {
     "data": {
      "text/html": [
       "<div>\n",
       "<style scoped>\n",
       "    .dataframe tbody tr th:only-of-type {\n",
       "        vertical-align: middle;\n",
       "    }\n",
       "\n",
       "    .dataframe tbody tr th {\n",
       "        vertical-align: top;\n",
       "    }\n",
       "\n",
       "    .dataframe thead th {\n",
       "        text-align: right;\n",
       "    }\n",
       "</style>\n",
       "<table border=\"1\" class=\"dataframe\">\n",
       "  <thead>\n",
       "    <tr style=\"text-align: right;\">\n",
       "      <th></th>\n",
       "      <th>Date</th>\n",
       "      <th>DBS SP Equity</th>\n",
       "      <th>SIA SP Equity</th>\n",
       "      <th>DBS SP Equity Log</th>\n",
       "      <th>SIA SP Equity Log</th>\n",
       "      <th>Portfolio Log</th>\n",
       "    </tr>\n",
       "  </thead>\n",
       "  <tbody>\n",
       "    <tr>\n",
       "      <th>0</th>\n",
       "      <td>2001-11-06</td>\n",
       "      <td>10.1</td>\n",
       "      <td>8.1605</td>\n",
       "      <td>NaN</td>\n",
       "      <td>NaN</td>\n",
       "      <td>NaN</td>\n",
       "    </tr>\n",
       "    <tr>\n",
       "      <th>1</th>\n",
       "      <td>2001-11-07</td>\n",
       "      <td>10.2</td>\n",
       "      <td>8.1605</td>\n",
       "      <td>0.009852</td>\n",
       "      <td>0.000000</td>\n",
       "      <td>0.004926</td>\n",
       "    </tr>\n",
       "    <tr>\n",
       "      <th>2</th>\n",
       "      <td>2001-11-08</td>\n",
       "      <td>10.1</td>\n",
       "      <td>8.2607</td>\n",
       "      <td>-0.009852</td>\n",
       "      <td>0.012204</td>\n",
       "      <td>0.001176</td>\n",
       "    </tr>\n",
       "    <tr>\n",
       "      <th>3</th>\n",
       "      <td>2001-11-09</td>\n",
       "      <td>10.3</td>\n",
       "      <td>8.8114</td>\n",
       "      <td>0.019608</td>\n",
       "      <td>0.064537</td>\n",
       "      <td>0.042073</td>\n",
       "    </tr>\n",
       "    <tr>\n",
       "      <th>4</th>\n",
       "      <td>2001-11-12</td>\n",
       "      <td>10.0</td>\n",
       "      <td>9.4121</td>\n",
       "      <td>-0.029559</td>\n",
       "      <td>0.065950</td>\n",
       "      <td>0.018195</td>\n",
       "    </tr>\n",
       "    <tr>\n",
       "      <th>...</th>\n",
       "      <td>...</td>\n",
       "      <td>...</td>\n",
       "      <td>...</td>\n",
       "      <td>...</td>\n",
       "      <td>...</td>\n",
       "      <td>...</td>\n",
       "    </tr>\n",
       "    <tr>\n",
       "      <th>1470</th>\n",
       "      <td>2007-09-17</td>\n",
       "      <td>19.4</td>\n",
       "      <td>18.7000</td>\n",
       "      <td>-0.010257</td>\n",
       "      <td>-0.015915</td>\n",
       "      <td>-0.013086</td>\n",
       "    </tr>\n",
       "    <tr>\n",
       "      <th>1471</th>\n",
       "      <td>2007-09-18</td>\n",
       "      <td>19.3</td>\n",
       "      <td>18.7000</td>\n",
       "      <td>-0.005168</td>\n",
       "      <td>0.000000</td>\n",
       "      <td>-0.002584</td>\n",
       "    </tr>\n",
       "    <tr>\n",
       "      <th>1472</th>\n",
       "      <td>2007-09-19</td>\n",
       "      <td>20.1</td>\n",
       "      <td>18.8000</td>\n",
       "      <td>0.040615</td>\n",
       "      <td>0.005333</td>\n",
       "      <td>0.022974</td>\n",
       "    </tr>\n",
       "    <tr>\n",
       "      <th>1473</th>\n",
       "      <td>2007-09-20</td>\n",
       "      <td>20.4</td>\n",
       "      <td>18.6000</td>\n",
       "      <td>0.014815</td>\n",
       "      <td>-0.010695</td>\n",
       "      <td>0.002060</td>\n",
       "    </tr>\n",
       "    <tr>\n",
       "      <th>1474</th>\n",
       "      <td>2007-09-21</td>\n",
       "      <td>20.2</td>\n",
       "      <td>18.7000</td>\n",
       "      <td>-0.009852</td>\n",
       "      <td>0.005362</td>\n",
       "      <td>-0.002245</td>\n",
       "    </tr>\n",
       "  </tbody>\n",
       "</table>\n",
       "<p>1475 rows × 6 columns</p>\n",
       "</div>"
      ],
      "text/plain": [
       "           Date  DBS SP Equity  SIA SP Equity  DBS SP Equity Log  \\\n",
       "0    2001-11-06           10.1         8.1605                NaN   \n",
       "1    2001-11-07           10.2         8.1605           0.009852   \n",
       "2    2001-11-08           10.1         8.2607          -0.009852   \n",
       "3    2001-11-09           10.3         8.8114           0.019608   \n",
       "4    2001-11-12           10.0         9.4121          -0.029559   \n",
       "...         ...            ...            ...                ...   \n",
       "1470 2007-09-17           19.4        18.7000          -0.010257   \n",
       "1471 2007-09-18           19.3        18.7000          -0.005168   \n",
       "1472 2007-09-19           20.1        18.8000           0.040615   \n",
       "1473 2007-09-20           20.4        18.6000           0.014815   \n",
       "1474 2007-09-21           20.2        18.7000          -0.009852   \n",
       "\n",
       "      SIA SP Equity Log  Portfolio Log  \n",
       "0                   NaN            NaN  \n",
       "1              0.000000       0.004926  \n",
       "2              0.012204       0.001176  \n",
       "3              0.064537       0.042073  \n",
       "4              0.065950       0.018195  \n",
       "...                 ...            ...  \n",
       "1470          -0.015915      -0.013086  \n",
       "1471           0.000000      -0.002584  \n",
       "1472           0.005333       0.022974  \n",
       "1473          -0.010695       0.002060  \n",
       "1474           0.005362      -0.002245  \n",
       "\n",
       "[1475 rows x 6 columns]"
      ]
     },
     "execution_count": 40,
     "metadata": {},
     "output_type": "execute_result"
    }
   ],
   "source": [
    "# DBS = 70% weightage\n",
    "# SIA = 30% weightage\n",
    "shareprices[\"Portfolio Log\"] = 0.5*shareprices[\"DBS SP Equity Log\"] + 0.5*shareprices[\"SIA SP Equity Log\"]\n",
    "shareprices"
   ]
  },
  {
   "cell_type": "code",
   "execution_count": 41,
   "id": "331c7880",
   "metadata": {},
   "outputs": [
    {
     "data": {
      "text/plain": [
       "0.0005164061271410698"
      ]
     },
     "execution_count": 41,
     "metadata": {},
     "output_type": "execute_result"
    }
   ],
   "source": [
    "Portfolio_Mean = shareprices[\"Portfolio Log\"].mean()\n",
    "Portfolio_Mean"
   ]
  },
  {
   "cell_type": "code",
   "execution_count": 42,
   "id": "d67d275f",
   "metadata": {},
   "outputs": [
    {
     "data": {
      "text/plain": [
       "0.01401334651312172"
      ]
     },
     "execution_count": 42,
     "metadata": {},
     "output_type": "execute_result"
    }
   ],
   "source": [
    "Portfolio_Std = shareprices[\"Portfolio Log\"].std()\n",
    "Portfolio_Std"
   ]
  },
  {
   "cell_type": "code",
   "execution_count": 43,
   "id": "ae77a0c1",
   "metadata": {},
   "outputs": [
    {
     "data": {
      "text/plain": [
       "0.00019637388049682068"
      ]
     },
     "execution_count": 43,
     "metadata": {},
     "output_type": "execute_result"
    }
   ],
   "source": [
    "Portfolio_Var = shareprices[\"Portfolio Log\"].var()\n",
    "Portfolio_Var"
   ]
  },
  {
   "cell_type": "code",
   "execution_count": 44,
   "id": "a6713b7a",
   "metadata": {},
   "outputs": [
    {
     "data": {
      "text/plain": [
       "0.18503215757248195"
      ]
     },
     "execution_count": 44,
     "metadata": {},
     "output_type": "execute_result"
    }
   ],
   "source": [
    "Portfolio_Skew = scipy.stats.skew(shareprices[\"Portfolio Log\"][1:], bias=False)\n",
    "Portfolio_Skew"
   ]
  },
  {
   "cell_type": "code",
   "execution_count": 45,
   "id": "19d4cddf",
   "metadata": {},
   "outputs": [
    {
     "data": {
      "text/plain": [
       "1.687367604929677"
      ]
     },
     "execution_count": 45,
     "metadata": {},
     "output_type": "execute_result"
    }
   ],
   "source": [
    "Portfolio_Kurt = scipy.stats.kurtosis(shareprices[\"Portfolio Log\"][1:], bias=False)\n",
    "Portfolio_Kurt"
   ]
  },
  {
   "cell_type": "code",
   "execution_count": 46,
   "id": "af80fcc7",
   "metadata": {},
   "outputs": [
    {
     "data": {
      "text/html": [
       "<div>\n",
       "<style scoped>\n",
       "    .dataframe tbody tr th:only-of-type {\n",
       "        vertical-align: middle;\n",
       "    }\n",
       "\n",
       "    .dataframe tbody tr th {\n",
       "        vertical-align: top;\n",
       "    }\n",
       "\n",
       "    .dataframe thead th {\n",
       "        text-align: right;\n",
       "    }\n",
       "</style>\n",
       "<table border=\"1\" class=\"dataframe\">\n",
       "  <thead>\n",
       "    <tr style=\"text-align: right;\">\n",
       "      <th></th>\n",
       "      <th>Portfolio</th>\n",
       "      <th>Statistics</th>\n",
       "    </tr>\n",
       "  </thead>\n",
       "  <tbody>\n",
       "    <tr>\n",
       "      <th>0</th>\n",
       "      <td>Mean</td>\n",
       "      <td>0.000516</td>\n",
       "    </tr>\n",
       "    <tr>\n",
       "      <th>1</th>\n",
       "      <td>Var</td>\n",
       "      <td>0.000196</td>\n",
       "    </tr>\n",
       "    <tr>\n",
       "      <th>2</th>\n",
       "      <td>Skew</td>\n",
       "      <td>0.185032</td>\n",
       "    </tr>\n",
       "    <tr>\n",
       "      <th>3</th>\n",
       "      <td>Kurt</td>\n",
       "      <td>1.687368</td>\n",
       "    </tr>\n",
       "  </tbody>\n",
       "</table>\n",
       "</div>"
      ],
      "text/plain": [
       "  Portfolio  Statistics\n",
       "0      Mean    0.000516\n",
       "1       Var    0.000196\n",
       "2      Skew    0.185032\n",
       "3      Kurt    1.687368"
      ]
     },
     "execution_count": 46,
     "metadata": {},
     "output_type": "execute_result"
    }
   ],
   "source": [
    "Portfolio_Statistics = pd.DataFrame({\n",
    "    'Portfolio':[\"Mean\", \n",
    "                 \"Var\", \n",
    "                 \"Skew\", \n",
    "                 \"Kurt\"], \n",
    "    'Statistics': [Portfolio_Mean, \n",
    "                   Portfolio_Var, \n",
    "                   Portfolio_Skew, \n",
    "                   Portfolio_Kurt]})\n",
    "Portfolio_Statistics"
   ]
  },
  {
   "cell_type": "code",
   "execution_count": 47,
   "id": "33441e91",
   "metadata": {},
   "outputs": [],
   "source": [
    "# assume normal distribution\n",
    "Portfolio_MonteCarlo = np.random.normal(Portfolio_Mean, Portfolio_Std, 1000000)"
   ]
  },
  {
   "cell_type": "code",
   "execution_count": 48,
   "id": "1b14772f",
   "metadata": {},
   "outputs": [
    {
     "data": {
      "text/plain": [
       "-0.032019523202975755"
      ]
     },
     "execution_count": 48,
     "metadata": {},
     "output_type": "execute_result"
    }
   ],
   "source": [
    "# 99% Confidence Level (1,000,000x)\n",
    "Portfolio_MonteCarlo_99 = np.percentile(Portfolio_MonteCarlo, 1)\n",
    "Portfolio_MonteCarlo_99"
   ]
  },
  {
   "cell_type": "code",
   "execution_count": 49,
   "id": "d880cb0b",
   "metadata": {},
   "outputs": [
    {
     "data": {
      "text/plain": [
       "-0.022505515323647703"
      ]
     },
     "execution_count": 49,
     "metadata": {},
     "output_type": "execute_result"
    }
   ],
   "source": [
    "# 95% Confidence Level (100,000x)\n",
    "Portfolio_MonteCarlo_95 = np.percentile(Portfolio_MonteCarlo, 5)\n",
    "Portfolio_MonteCarlo_95"
   ]
  },
  {
   "cell_type": "code",
   "execution_count": 50,
   "id": "3c0ff8b4",
   "metadata": {},
   "outputs": [
    {
     "data": {
      "text/html": [
       "<div>\n",
       "<style scoped>\n",
       "    .dataframe tbody tr th:only-of-type {\n",
       "        vertical-align: middle;\n",
       "    }\n",
       "\n",
       "    .dataframe tbody tr th {\n",
       "        vertical-align: top;\n",
       "    }\n",
       "\n",
       "    .dataframe thead th {\n",
       "        text-align: right;\n",
       "    }\n",
       "</style>\n",
       "<table border=\"1\" class=\"dataframe\">\n",
       "  <thead>\n",
       "    <tr style=\"text-align: right;\">\n",
       "      <th></th>\n",
       "      <th>Confidence Level</th>\n",
       "      <th>Portfolio_99</th>\n",
       "      <th>Portfolio_95</th>\n",
       "    </tr>\n",
       "  </thead>\n",
       "  <tbody>\n",
       "    <tr>\n",
       "      <th>0</th>\n",
       "      <td>MonteCarlo</td>\n",
       "      <td>-0.03202</td>\n",
       "      <td>-0.022506</td>\n",
       "    </tr>\n",
       "  </tbody>\n",
       "</table>\n",
       "</div>"
      ],
      "text/plain": [
       "  Confidence Level  Portfolio_99  Portfolio_95\n",
       "0       MonteCarlo      -0.03202     -0.022506"
      ]
     },
     "execution_count": 50,
     "metadata": {},
     "output_type": "execute_result"
    }
   ],
   "source": [
    "Portfolio_99 = pd.Series([Portfolio_MonteCarlo_99], index=[0])\n",
    "Portfolio_95 = pd.Series([Portfolio_MonteCarlo_95], index=[0])\n",
    "\n",
    "Portfolio_Summary = pd.DataFrame({\n",
    "    'Confidence Level':[\"MonteCarlo\"]})\n",
    "\n",
    "Portfolio_Summary.assign(Portfolio_99=Portfolio_99, Portfolio_95=Portfolio_95)"
   ]
  }
 ],
 "metadata": {
  "kernelspec": {
   "display_name": "Python 3 (ipykernel)",
   "language": "python",
   "name": "python3"
  },
  "language_info": {
   "codemirror_mode": {
    "name": "ipython",
    "version": 3
   },
   "file_extension": ".py",
   "mimetype": "text/x-python",
   "name": "python",
   "nbconvert_exporter": "python",
   "pygments_lexer": "ipython3",
   "version": "3.9.7"
  }
 },
 "nbformat": 4,
 "nbformat_minor": 5
}
